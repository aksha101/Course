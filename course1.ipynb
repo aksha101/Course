{
 "cells": [
  {
   "cell_type": "code",
   "execution_count": 1,
   "id": "cb5deeea",
   "metadata": {},
   "outputs": [
    {
     "name": "stdout",
     "output_type": "stream",
     "text": [
      "name: Akshatha Karnatakam\n",
      "module: GIT & GITHUB\n",
      "None None\n",
      "In this, I learnt how to create repository data and save in the database.\n"
     ]
    }
   ],
   "source": [
    "from os import name\n",
    "\n",
    "def func():\n",
    "    self___name___ = name\n",
    "    print(\"name: Akshatha Karnatakam\")\n",
    "def module():\n",
    "    self___module___ = module\n",
    "    print(\"module: GIT & GITHUB\")\n",
    "    \n",
    "print(func(),module())\n",
    "print(\"In this, I learnt how to create repository data and save in the database.\")"
   ]
  },
  {
   "cell_type": "code",
   "execution_count": null,
   "id": "8884ffd0",
   "metadata": {},
   "outputs": [],
   "source": []
  }
 ],
 "metadata": {
  "kernelspec": {
   "display_name": "Python 3 (ipykernel)",
   "language": "python",
   "name": "python3"
  },
  "language_info": {
   "codemirror_mode": {
    "name": "ipython",
    "version": 3
   },
   "file_extension": ".py",
   "mimetype": "text/x-python",
   "name": "python",
   "nbconvert_exporter": "python",
   "pygments_lexer": "ipython3",
   "version": "3.9.12"
  }
 },
 "nbformat": 4,
 "nbformat_minor": 5
}
